{
 "cells": [
  {
   "cell_type": "code",
   "execution_count": null,
   "metadata": {},
   "outputs": [],
   "source": [
    "!pip install boto3"
   ]
  },
  {
   "cell_type": "code",
   "execution_count": 1,
   "metadata": {},
   "outputs": [],
   "source": [
    "import pickle\n",
    "import boto3\n",
    "import os"
   ]
  },
  {
   "cell_type": "code",
   "execution_count": 2,
   "metadata": {},
   "outputs": [],
   "source": [
    "# Initializing S3 access\n",
    "key_id = os.environ.get(\"AWS_ACCESS_KEY_ID\")\n",
    "secret_key = os.environ.get(\"AWS_SECRET_ACCESS_KEY\")\n",
    "endpoint = os.environ.get(\"AWS_S3_ENDPOINT\")\n",
    "bucket_name = os.environ.get(\"AWS_S3_BUCKET\")\n",
    "xgboost_model_bucket_key = \"gradient_boost_model\"\n",
    "rf_model_bucket_key = \"rf_model\"\n",
    "best_model_bucket_key = \"best_model\"\n",
    "\n",
    "session = boto3.session.Session(aws_access_key_id=key_id, aws_secret_access_key=secret_key)\n",
    "s3 = session.resource(service_name='s3', endpoint_url=endpoint)"
   ]
  },
  {
   "cell_type": "code",
   "execution_count": null,
   "metadata": {},
   "outputs": [],
   "source": [
    "# Load the xgboost model\n",
    "xgb_model_pickle = s3.Bucket(bucket_name).Object(xgboost_model_bucket_key).get()['Body'].read()\n",
    "(xgb_model, xgb_accuracy) = pickle.loads(xgb_model_pickle)"
   ]
  },
  {
   "cell_type": "code",
   "execution_count": null,
   "metadata": {},
   "outputs": [],
   "source": [
    "# Load the randomforest model\n",
    "rf_model_pickle = s3.Bucket(bucket_name).Object(rf_model_bucket_key).get()['Body'].read()\n",
    "(rf_model, rf_accuracy) = pickle.loads(rf_model_pickle)"
   ]
  },
  {
   "cell_type": "code",
   "execution_count": null,
   "metadata": {},
   "outputs": [],
   "source": [
    "# Compare and upload the best one\n",
    "if xgb_accuracy>rf_accuracy:\n",
    "    model_and_metadata = {\n",
    "        \"model\":xgb_model,\n",
    "        \"model_type\":\"xgboost\",\n",
    "        \"accuarcy\":xgb_accuracy\n",
    "    }\n",
    "    pickled_model_and_metadata = pickle.dumps(model_and_metadata, protocol=pickle.HIGHEST_PROTOCOL)\n",
    "    s3.Bucket(bucket_name).put_object(Key=best_model_bucket_key, Body=pickled_model_and_metadata)\n",
    "else:\n",
    "    model_and_metadata = {\n",
    "        \"model\":rf_model,\n",
    "        \"model_type\":\"randomforest\",\n",
    "        \"accuarcy\":rf_accuracy\n",
    "    }\n",
    "    pickled_model_and_metadata = pickle.dumps(model_and_metadata, protocol=pickle.HIGHEST_PROTOCOL)\n",
    "    s3.Bucket(bucket_name).put_object(Key=best_model_bucket_key, Body=pickled_model_and_metadata)"
   ]
  }
 ],
 "metadata": {
  "kernelspec": {
   "display_name": "Python 3.9.16",
   "language": "python",
   "name": "python3"
  },
  "language_info": {
   "codemirror_mode": {
    "name": "ipython",
    "version": 3
   },
   "file_extension": ".py",
   "mimetype": "text/x-python",
   "name": "python",
   "nbconvert_exporter": "python",
   "pygments_lexer": "ipython3",
   "version": "3.9.16"
  },
  "vscode": {
   "interpreter": {
    "hash": "2e3faf9729b7090bb03b222634211c9cfe48ae823637b8ba67422da03c70d659"
   }
  }
 },
 "nbformat": 4,
 "nbformat_minor": 4
}
