{
 "cells": [
  {
   "cell_type": "code",
   "execution_count": 1,
   "metadata": {},
   "outputs": [],
   "source": [
    "import pickle\n",
    "import os"
   ]
  },
  {
   "cell_type": "code",
   "execution_count": null,
   "metadata": {},
   "outputs": [],
   "source": [
    "# Load the xgboost model\n",
    "with open(\"gradient_boost_model.pickle\", \"rb\") as picklefile:\n",
    "    (xgb_model, xgb_accuracy) = pickle.load(picklefile)"
   ]
  },
  {
   "cell_type": "code",
   "execution_count": null,
   "metadata": {},
   "outputs": [],
   "source": [
    "# Load the randomforest model\n",
    "with open(\"rf_model.pickle\", \"rb\") as picklefile:\n",
    "    (rf_model, rf_accuracy) = pickle.load(picklefile)"
   ]
  },
  {
   "cell_type": "code",
   "execution_count": null,
   "metadata": {},
   "outputs": [],
   "source": [
    "# Compare and upload the best one\n",
    "if xgb_accuracy>rf_accuracy:\n",
    "    model_and_metadata = {\n",
    "        \"model\":xgb_model,\n",
    "        \"model_type\":\"xgboost\",\n",
    "        \"accuarcy\":xgb_accuracy\n",
    "    }\n",
    "    with open(\"best_model.pickle\", \"wb\") as picklefile:\n",
    "        pickled_data = pickle.dump(model_and_metadata, picklefile, protocol=pickle.HIGHEST_PROTOCOL)\n",
    "else:\n",
    "    model_and_metadata = {\n",
    "        \"model\":rf_model,\n",
    "        \"model_type\":\"randomforest\",\n",
    "        \"accuarcy\":rf_accuracy\n",
    "    }\n",
    "    with open(\"best_model.pickle\", \"wb\") as picklefile:\n",
    "        pickled_data = pickle.dump(model_and_metadata, picklefile, protocol=pickle.HIGHEST_PROTOCOL)"
   ]
  }
 ],
 "metadata": {
  "kernelspec": {
   "display_name": "Python 3.9.16",
   "language": "python",
   "name": "python3"
  },
  "language_info": {
   "codemirror_mode": {
    "name": "ipython",
    "version": 3
   },
   "file_extension": ".py",
   "mimetype": "text/x-python",
   "name": "python",
   "nbconvert_exporter": "python",
   "pygments_lexer": "ipython3",
   "version": "3.9.16"
  },
  "vscode": {
   "interpreter": {
    "hash": "2e3faf9729b7090bb03b222634211c9cfe48ae823637b8ba67422da03c70d659"
   }
  }
 },
 "nbformat": 4,
 "nbformat_minor": 4
}
